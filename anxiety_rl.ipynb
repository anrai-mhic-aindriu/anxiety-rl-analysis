{
 "cells": [
  {
   "cell_type": "code",
   "execution_count": 2,
   "metadata": {},
   "outputs": [],
   "source": [
    "import numpy as np\n",
    "import pandas as pd \n",
    "import matplotlib.pyplot as plt\n",
    "import os"
   ]
  },
  {
   "cell_type": "code",
   "execution_count": 3,
   "metadata": {},
   "outputs": [
    {
     "name": "stdout",
     "output_type": "stream",
     "text": [
      "Current working directory: /Users/harrybingham/Documents/GitHub/anxiety-rl-analysis\n",
      "Data directory found at /Users/harrybingham/Documents/GitHub/anxiety-rl-analysis/data_2023\n",
      "['inst_outcomes.csv', 'stai_scores.csv', 'inst_choices.csv', 'README.md']\n"
     ]
    }
   ],
   "source": [
    "cwd =  os.getcwd()\n",
    "print('Current working directory:', cwd)\n",
    "\n",
    "data_dir = os.path.join(cwd, 'data_2023')\n",
    "\n",
    "# Check if the directory exists\n",
    "if os.path.isdir(data_dir):\n",
    "    print('Data directory found at', data_dir)\n",
    "else:\n",
    "    print('Error: data directory not found')\n",
    "\n",
    "print(os.listdir(data_dir))"
   ]
  },
  {
   "cell_type": "code",
   "execution_count": 4,
   "metadata": {},
   "outputs": [
    {
     "data": {
      "text/plain": [
       "' All data has been loaded correctly. '"
      ]
     },
     "execution_count": 4,
     "metadata": {},
     "output_type": "execute_result"
    }
   ],
   "source": [
    "# Load the STAI-Y2 scores data\n",
    "stai_df = pd.read_csv(os.path.join(data_dir, 'stai_scores.csv'))\n",
    "\n",
    "# Load the choices data\n",
    "choices_df = pd.read_csv(os.path.join(data_dir, 'inst_choices.csv'))\n",
    "\n",
    "# Load the outcomes data\n",
    "outcomes_df = pd.read_csv(os.path.join(data_dir, 'inst_outcomes.csv'))\n",
    "\n",
    "\"\"\" All data has been loaded correctly. \"\"\""
   ]
  },
  {
   "cell_type": "code",
   "execution_count": 5,
   "metadata": {},
   "outputs": [],
   "source": [
    "num_trials = 160"
   ]
  },
  {
   "cell_type": "code",
   "execution_count": 6,
   "metadata": {},
   "outputs": [
    {
     "name": "stdout",
     "output_type": "stream",
     "text": [
      "Mean STAI score: 65    42.265306\n",
      "dtype: float64\n",
      "Median STAI score: 65    39.0\n",
      "dtype: float64\n",
      "Standard deviation of STAI score: 65    14.6796\n",
      "dtype: float64\n"
     ]
    }
   ],
   "source": [
    "mean_stai = stai_df.mean()\n",
    "print('Mean STAI score:', mean_stai)\n",
    "\n",
    "median_stai = stai_df.median()\n",
    "print('Median STAI score:', median_stai)\n",
    "\n",
    "std_stai = stai_df.std()\n",
    "print('Standard deviation of STAI score:', std_stai)"
   ]
  },
  {
   "cell_type": "code",
   "execution_count": 7,
   "metadata": {},
   "outputs": [
    {
     "name": "stdout",
     "output_type": "stream",
     "text": [
      "Number of participants 50\n",
      "Number of healthy controls: 30\n",
      "Number of anxious participants: 20\n"
     ]
    },
    {
     "data": {
      "text/plain": [
       "' The number of participants expected to fit in each group based on self-resport is 25/25 (control/anxious). However, given a STAI cutoff of 43, the number of participants in each group is 30/20 (controls/anxious). Hereafter, we will assume the self-reported data is correct. '"
      ]
     },
     "execution_count": 7,
     "metadata": {},
     "output_type": "execute_result"
    }
   ],
   "source": [
    "stai_cutoff = 43\n",
    "num_healthy_controls = (len(stai_df[stai_df.iloc[:, 0] <= stai_cutoff]) + 1)\n",
    "num_participants = (stai_df.shape[0] + 1)\n",
    "print(\"Number of participants\", num_participants)\n",
    "print('Number of healthy controls:', num_healthy_controls)\n",
    "print('Number of anxious participants:', num_participants - num_healthy_controls)\n",
    "\n",
    "\"\"\" The number of participants expected to fit in each group based on self-resport is 25/25 (control/anxious). However, given a STAI cutoff of 43, the number of participants in each group is 30/20 (controls/anxious). Hereafter, we will assume the self-reported data is correct. \"\"\""
   ]
  },
  {
   "cell_type": "code",
   "execution_count": 8,
   "metadata": {},
   "outputs": [
    {
     "name": "stdout",
     "output_type": "stream",
     "text": [
      "Number of times each participant chose option A [46, 32, 58, 37, 26, 28, 50, 38, 51, 53, 30, 31, 41, 36, 33, 41, 41, 28, 37, 53, 33, 40, 67, 31, 45, 29, 6, 25, 7, 12, 29, 21, 29, 16, 36, 39, 27, 41, 25, 39, 28, 29, 36, 45, 24, 16, 53, 31, 22]\n",
      "Average number of times each participant chose option A: 34.10204081632653\n"
     ]
    }
   ],
   "source": [
    "\"\"\" \n",
    "Compute the number of times each participant choose option A. Report the average of this number (or\n",
    "percentage) across all subjects. What is the expected number of aversive sounds experienced by participants\n",
    "who respond randomly throughout the experiment? Did our participants perform the task well? \n",
    "\"\"\"\n",
    "\n",
    "# Compute the number of times each participant chose option A\n",
    "num_A = []\n",
    "for index, row in choices_df.iterrows():\n",
    "    num_A.append(row.tolist().count(1))\n",
    "\n",
    "print(\"Number of times each participant chose option A\", num_A)\n",
    "\n",
    "# Compute the average number of times each participant chose option A\n",
    "avg_num_A = np.mean(num_A)\n",
    "print('Average number of times each participant chose option A:', avg_num_A)\n",
    "\n",
    "\"\"\" \n",
    "The expected number of aversive sounds experienced by participants given random choices is 80. The average number of times each participant chose option A is 34.1 . \n",
    "This suggests that our participants performed the task well. 21.3% of the time, they chose option A\n",
    "\"\"\"\n",
    "None"
   ]
  },
  {
   "cell_type": "code",
   "execution_count": 9,
   "metadata": {},
   "outputs": [],
   "source": [
    "def update_V(V_i_t, o_t, alpha):\n",
    "    \"\"\"\n",
    "    Update the value of V_i at time t+1 given its previous value at time t and the observed outcome o_t.\n",
    "    \n",
    "    Args:\n",
    "    V_i_t (float): The previous value of V_i at time t.\n",
    "    o_t (float): The observed outcome at time t.\n",
    "    alpha (float): The learning rate.\n",
    "    \n",
    "    Returns:\n",
    "    float: The updated value of V_i at time t+1.\n",
    "    \"\"\"\n",
    "    V_i_t_plus_1 = V_i_t + alpha * (o_t - V_i_t)\n",
    "    return V_i_t_plus_1\n",
    "\n",
    "def p(action, V_A, V_B, beta):\n",
    "    # Compute the exponentiated values for each option\n",
    "    exp_A = np.exp(-beta * V_A)\n",
    "    exp_B = np.exp(-beta * V_B)\n",
    "\n",
    "    # Compute the probability of selecting option A\n",
    "    probability = exp_A / (exp_A + exp_B)\n",
    "\n",
    "    # Return the probability of selecting the specified action\n",
    "    if action == 'A':\n",
    "        return probability\n",
    "    else:\n",
    "        return 1 - probability\n",
    "\n"
   ]
  },
  {
   "cell_type": "code",
   "execution_count": 10,
   "metadata": {},
   "outputs": [],
   "source": [
    "import numpy as np\n",
    "import matplotlib.pyplot as plt\n",
    "from mpl_toolkits.mplot3d import Axes3D\n",
    "\n",
    "def simulate_aversive_stimuli(alpha, beta, V0, num_trials, num_simulations):\n",
    "    aversive_stimuli_count = 0\n",
    "\n",
    "    for _ in range(num_simulations):\n",
    "        V_A = V0\n",
    "        V_B = V0\n",
    "\n",
    "        for t in range(1, num_trials + 1):\n",
    "            # Calculate the probability of choosing action A\n",
    "            prob_A = p('A', V_A, V_B, beta)\n",
    "\n",
    "            # Randomly choose action A or B based on the probabilities\n",
    "            action = np.random.choice(['A', 'B'], p=[prob_A, 1 - prob_A])\n",
    "\n",
    "            # Determine the outcome based on the current trial and chosen action\n",
    "            o_t = 1 if (t - 1) % 40 < 20 and action == 'A' else 0\n",
    "\n",
    "            # Update the values of V_A and V_B based on the chosen action and outcome\n",
    "            if action == 'A':\n",
    "                V_A = update_V(V_A, o_t, alpha)\n",
    "            else:\n",
    "                V_B = update_V(V_B, o_t, alpha)\n",
    "\n",
    "            aversive_stimuli_count += o_t\n",
    "\n",
    "    avg_aversive_stimuli = aversive_stimuli_count / num_simulations\n",
    "    return avg_aversive_stimuli\n",
    "\n",
    "# Parameter ranges\n",
    "alpha_values = np.linspace(0, 1, 11)\n",
    "beta_values = np.linspace(0, 10, 21)\n",
    "\n",
    "# Simulations\n",
    "V0 = 0.5\n",
    "num_trials = 160\n",
    "num_simulations = 100\n",
    "\n",
    "# Compute the average number of aversive stimuli for each combination of alpha and beta\n",
    "results = np.zeros((len(alpha_values), len(beta_values)))\n",
    "\n",
    "for i, alpha in enumerate(alpha_values):\n",
    "    for j, beta in enumerate(beta_values):\n",
    "        results[i, j] = simulate_aversive_stimuli(alpha, beta, V0, num_trials, num_simulations)\n",
    "\n",
    "# 3D plot of the results\n",
    "X, Y = np.meshgrid(beta_values, alpha_values)\n",
    "Z = results\n",
    "\n",
    "fig = plt.figure(figsize=(10, 8))\n",
    "ax = fig.add_subplot(111, projection='3d')\n",
    "ax.plot_surface(X, Y, Z)\n",
    "\n",
    "ax.set_xlabel('Beta')\n",
    "ax.set_ylabel('Alpha')\n",
    "ax.set_zlabel('Average Number of Aversive Stimuli')\n",
    "ax.set_title('Average Number of Aversive Stimuli as a Function of Alpha and Beta')\n",
    "\n",
    "plt.show()"
   ]
  }
 ],
 "metadata": {
  "kernelspec": {
   "display_name": "Python 3",
   "language": "python",
   "name": "python3"
  },
  "language_info": {
   "codemirror_mode": {
    "name": "ipython",
    "version": 3
   },
   "file_extension": ".py",
   "mimetype": "text/x-python",
   "name": "python",
   "nbconvert_exporter": "python",
   "pygments_lexer": "ipython3",
   "version": "3.9.16"
  },
  "orig_nbformat": 4,
  "vscode": {
   "interpreter": {
    "hash": "397704579725e15f5c7cb49fe5f0341eb7531c82d19f2c29d197e8b64ab5776b"
   }
  }
 },
 "nbformat": 4,
 "nbformat_minor": 2
}
